{
 "cells": [
  {
   "cell_type": "code",
   "execution_count": 1,
   "metadata": {},
   "outputs": [],
   "source": [
    "import json\n",
    "import glob\n",
    "from PIL import Image\n",
    "import requests\n",
    "import numpy as np\n",
    "from matplotlib import pyplot as plt \n",
    "from mpl_toolkits.axes_grid1 import make_axes_locatable\n",
    "\n"
   ]
  },
  {
   "cell_type": "code",
   "execution_count": 2,
   "metadata": {},
   "outputs": [],
   "source": [
    "def extract_img_heatmap(json_pth, normalize = False):\n",
    "    with open(json_pth) as f:\n",
    "        loaded_json = json.loads(f.readline())\n",
    "        \n",
    "    x = loaded_json['loss']\n",
    "    facts = loaded_json['factors']\n",
    "    target = loaded_json['target']\n",
    "    \n",
    "    if normalize:\n",
    "        for i, f in enumerate(facts):\n",
    "            x[i+1] /= 1+sum([1-fi for fi in f])\n",
    "    \n",
    "    y = ((np.array(x[1:]))-np.array(x[0]))**2\n",
    "    #y = ((np.array(x[1:])**2)-np.array(x[0])**2)**2\n",
    "    y= y.reshape(30,30)\n",
    "    \n",
    "    fig,(ax1,ax2) = plt.subplots(1,2)\n",
    "    \n",
    "    ax1.set_title(json_pth.split('/')[-3] + \" // \" + target)\n",
    "    raw_image = Image.open(loaded_json['img'].replace('/root/bjoern/atman_other_model/','/nfs/scratch_2/bjoern/atman_other_model/'))\n",
    "    raw_image.resize((300,300))\n",
    "    ax1.imshow(raw_image)\n",
    "    ax1.axis('off')\n",
    "    \n",
    "    im2 = ax2.imshow(y)\n",
    "    divider = make_axes_locatable(ax2)\n",
    "\n",
    "    cax = divider.append_axes('right', size='5%', pad=0.05)\n",
    "    fig.colorbar(im2, cax=cax, orientation='vertical')\n",
    "\n",
    "    #ax2.imshow(y>.01)\n",
    "    ax2.axis('off')\n",
    "    #ax2.colorbar()\n",
    "    return y"
   ]
  },
  {
   "cell_type": "code",
   "execution_count": null,
   "metadata": {},
   "outputs": [],
   "source": []
  },
  {
   "cell_type": "code",
   "execution_count": 3,
   "metadata": {},
   "outputs": [
    {
     "name": "stdout",
     "output_type": "stream",
     "text": [
      "/nfs/scratch_2/bjoern/atman_other_model/others/BLIP/test_folder/cute-kitten-and-puppy-outdoors-in-grass.jpg_explanation_33_cap_suppressions_magmastyle_yes.json\n"
     ]
    },
    {
     "ename": "ValueError",
     "evalue": "cannot reshape array of size 144 into shape (30,30)",
     "output_type": "error",
     "traceback": [
      "\u001b[0;31m---------------------------------------------------------------------------\u001b[0m",
      "\u001b[0;31mValueError\u001b[0m                                Traceback (most recent call last)",
      "Cell \u001b[0;32mIn[3], line 11\u001b[0m\n\u001b[1;32m      9\u001b[0m \u001b[39mfor\u001b[39;00m p \u001b[39min\u001b[39;00m glob\u001b[39m.\u001b[39mglob(\u001b[39mf\u001b[39m\u001b[39m'\u001b[39m\u001b[39m/nfs/scratch_2/bjoern/atman_other_model/others/BLIP/test_folder/*_explanation_\u001b[39m\u001b[39m{\u001b[39;00msuffix\u001b[39m}\u001b[39;00m\u001b[39m*\u001b[39m\u001b[39m'\u001b[39m):\n\u001b[1;32m     10\u001b[0m     \u001b[39mprint\u001b[39m(p)\n\u001b[0;32m---> 11\u001b[0m     extract_img_heatmap(p) \u001b[39m#, True)\u001b[39;00m\n",
      "Cell \u001b[0;32mIn[2], line 15\u001b[0m, in \u001b[0;36mextract_img_heatmap\u001b[0;34m(json_pth, normalize)\u001b[0m\n\u001b[1;32m     13\u001b[0m y \u001b[39m=\u001b[39m ((np\u001b[39m.\u001b[39marray(x[\u001b[39m1\u001b[39m:]))\u001b[39m-\u001b[39mnp\u001b[39m.\u001b[39marray(x[\u001b[39m0\u001b[39m]))\u001b[39m*\u001b[39m\u001b[39m*\u001b[39m\u001b[39m2\u001b[39m\n\u001b[1;32m     14\u001b[0m \u001b[39m#y = ((np.array(x[1:])**2)-np.array(x[0])**2)**2\u001b[39;00m\n\u001b[0;32m---> 15\u001b[0m y\u001b[39m=\u001b[39m y\u001b[39m.\u001b[39;49mreshape(\u001b[39m30\u001b[39;49m,\u001b[39m30\u001b[39;49m)\n\u001b[1;32m     17\u001b[0m fig,(ax1,ax2) \u001b[39m=\u001b[39m plt\u001b[39m.\u001b[39msubplots(\u001b[39m1\u001b[39m,\u001b[39m2\u001b[39m)\n\u001b[1;32m     19\u001b[0m ax1\u001b[39m.\u001b[39mset_title(json_pth\u001b[39m.\u001b[39msplit(\u001b[39m'\u001b[39m\u001b[39m/\u001b[39m\u001b[39m'\u001b[39m)[\u001b[39m-\u001b[39m\u001b[39m3\u001b[39m] \u001b[39m+\u001b[39m \u001b[39m\"\u001b[39m\u001b[39m // \u001b[39m\u001b[39m\"\u001b[39m \u001b[39m+\u001b[39m target)\n",
      "\u001b[0;31mValueError\u001b[0m: cannot reshape array of size 144 into shape (30,30)"
     ]
    }
   ],
   "source": [
    "#suffix = '7_fix2' #failure\n",
    "#suffix = '7_fix3' #better at least?\n",
    "#suffix='8_AH' \n",
    "#suffix='7_fix3'\n",
    "#suffix='19_cap_suppressions'\n",
    "suffix='33_cap_suppressions_magmastyle'\n",
    "\n",
    "#for p in glob.glob(f'/nfs/scratch_2/bjoern/atman_other_model/openimages-mini/*/images/*_explanation_{suffix}*'):\n",
    "for p in glob.glob(f'/nfs/scratch_2/bjoern/atman_other_model/others/BLIP/test_folder/*_explanation_{suffix}*'):\n",
    "    print(p)\n",
    "    extract_img_heatmap(p) #, True)"
   ]
  },
  {
   "cell_type": "code",
   "execution_count": null,
   "metadata": {},
   "outputs": [],
   "source": []
  }
 ],
 "metadata": {
  "kernelspec": {
   "display_name": "base",
   "language": "python",
   "name": "python3"
  },
  "language_info": {
   "codemirror_mode": {
    "name": "ipython",
    "version": 3
   },
   "file_extension": ".py",
   "mimetype": "text/x-python",
   "name": "python",
   "nbconvert_exporter": "python",
   "pygments_lexer": "ipython3",
   "version": "3.9.16"
  },
  "orig_nbformat": 4
 },
 "nbformat": 4,
 "nbformat_minor": 2
}
