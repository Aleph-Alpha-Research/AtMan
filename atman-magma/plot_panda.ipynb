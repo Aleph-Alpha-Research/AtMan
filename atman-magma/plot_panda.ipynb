{
 "cells": [
  {
   "cell_type": "code",
   "execution_count": null,
   "id": "a349b9b9",
   "metadata": {},
   "outputs": [],
   "source": [
    "import pandas as pd\n",
    "import matplotlib.pyplot as plt"
   ]
  },
  {
   "cell_type": "code",
   "execution_count": null,
   "id": "b3c32c8a",
   "metadata": {},
   "outputs": [],
   "source": [
    "import cv2\n",
    "\n",
    "from atman_magma.outputs import DeltaCrossEntropiesOutput\n",
    "\n",
    "def show_result_from_df_idx(\n",
    "\n",
    "):\n",
    "    image_filename = 'openimages-panda.jpg'\n",
    "    \n",
    "    image = DeltaCrossEntropiesOutput.from_file(filename = f'panda.json').show_image(image_token_start_idx = 0, target_token_idx= 0) **2\n",
    "       \n",
    "    #image[image<0.6]=1.0\n",
    "    fig, ax = plt.subplots(nrows=1, ncols=2, figsize = (15 , 6))\n",
    "    title = f''\n",
    "    fig.suptitle(title)\n",
    "    ax[0].imshow(cv2.cvtColor(cv2.imread(image_filename), cv2.COLOR_BGR2RGB))\n",
    "    \n",
    "    \n",
    "    \n",
    "    fads = ax[1].imshow(image, cmap = 'gray')\n",
    "    fig.colorbar( fads, ax=ax[1])\n",
    "    \n",
    "    import numpy as np\n",
    "    image = image / image.max()\n",
    "    image = (image*255).astype(np.uint8)\n",
    "    cv2.imwrite('panda-explained.jpg', image)\n",
    "    \n",
    "    "
   ]
  },
  {
   "cell_type": "code",
   "execution_count": null,
   "id": "f90498f7",
   "metadata": {},
   "outputs": [],
   "source": [
    "show_result_from_df_idx() "
   ]
  }
 ],
 "metadata": {
  "kernelspec": {
   "display_name": "Python 3 (ipykernel)",
   "language": "python",
   "name": "python3"
  },
  "language_info": {
   "codemirror_mode": {
    "name": "ipython",
    "version": 3
   },
   "file_extension": ".py",
   "mimetype": "text/x-python",
   "name": "python",
   "nbconvert_exporter": "python",
   "pygments_lexer": "ipython3",
   "version": "3.8.16"
  }
 },
 "nbformat": 4,
 "nbformat_minor": 5
}
